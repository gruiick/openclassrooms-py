{
 "cells": [
  {
   "cell_type": "code",
   "execution_count": 160,
   "id": "dd1382b3",
   "metadata": {},
   "outputs": [],
   "source": [
    "%matplotlib inline\n",
    "import matplotlib.pyplot as plt\n",
    "import numpy as np\n",
    "plt.style.use('seaborn-whitegrid')\n",
    "import seaborn as sns"
   ]
  },
  {
   "cell_type": "markdown",
   "id": "2080ceba",
   "metadata": {},
   "source": [
    "## Import data"
   ]
  },
  {
   "cell_type": "code",
   "execution_count": 161,
   "id": "af9280d1",
   "metadata": {},
   "outputs": [],
   "source": [
    "dtype = np.dtype([(\"cores\", int), (\"duration\", int)])\n",
    "#inputdata = np.loadtxt(\"stats_ralf.csv\", dtype=dtype, delimiter=',', usecols=(0, 1), unpack=True)\n",
    "#inputdata = np.loadtxt(\"all-2023.csv\", dtype=dtype, delimiter=',', usecols=(0, 1), unpack=True)\n",
    "#inputdata = np.loadtxt(\"Lake-2023.csv\", dtype=dtype, delimiter=',', usecols=(0, 1), unpack=True)\n",
    "#inputdata = np.loadtxt(\"E5-2023.csv\", dtype=dtype, delimiter=',', usecols=(0, 1), unpack=True)\n",
    "#inputdata = np.loadtxt(\"Cascade-2023.csv\", dtype=dtype, delimiter=',', usecols=(0, 1), unpack=True)\n",
    "inputdata = np.loadtxt(\"Epyc-2023.csv\", dtype=dtype, delimiter=',', usecols=(0, 1), unpack=True)"
   ]
  },
  {
   "cell_type": "code",
   "execution_count": 162,
   "id": "5e0fb635",
   "metadata": {},
   "outputs": [
    {
     "name": "stdout",
     "output_type": "stream",
     "text": [
      "total nb of datasets: 30681\n"
     ]
    }
   ],
   "source": [
    "print(f\"total nb of datasets: {len(inputdata[0])}\")"
   ]
  },
  {
   "cell_type": "code",
   "execution_count": 163,
   "id": "1a0a1eeb",
   "metadata": {},
   "outputs": [],
   "source": [
    "inputdataarray = np.array(inputdata)"
   ]
  },
  {
   "cell_type": "code",
   "execution_count": 164,
   "id": "aa82fc51",
   "metadata": {},
   "outputs": [
    {
     "name": "stdout",
     "output_type": "stream",
     "text": [
      "32\n"
     ]
    }
   ],
   "source": [
    "print(inputdata[0][1])"
   ]
  },
  {
   "cell_type": "code",
   "execution_count": 165,
   "id": "e5d4f1f6",
   "metadata": {},
   "outputs": [
    {
     "name": "stdout",
     "output_type": "stream",
     "text": [
      "32\n"
     ]
    }
   ],
   "source": [
    "print(inputdataarray[0][1])"
   ]
  },
  {
   "cell_type": "code",
   "execution_count": 166,
   "id": "c27deebb",
   "metadata": {},
   "outputs": [
    {
     "name": "stdout",
     "output_type": "stream",
     "text": [
      "119637\n"
     ]
    }
   ],
   "source": [
    "print(inputdataarray[1][1])"
   ]
  },
  {
   "cell_type": "markdown",
   "id": "be5d3821",
   "metadata": {},
   "source": [
    "## Histogram of number of cores used"
   ]
  },
  {
   "cell_type": "code",
   "execution_count": 167,
   "id": "fbd8d0e8",
   "metadata": {},
   "outputs": [],
   "source": [
    "max_ncore_bin_log2=int(np.floor(np.max(np.log2(inputdataarray[0])))+1)"
   ]
  },
  {
   "cell_type": "code",
   "execution_count": 168,
   "id": "281bb580",
   "metadata": {
    "scrolled": true
   },
   "outputs": [
    {
     "data": {
      "text/plain": [
       "(array([2.390e+04, 4.600e+01, 1.100e+01, 6.065e+03, 3.430e+02, 1.480e+02,\n",
       "        9.000e+00, 1.510e+02, 6.000e+00, 2.000e+00, 0.000e+00]),\n",
       " array([-0.5,  0.5,  1.5,  2.5,  3.5,  4.5,  5.5,  6.5,  7.5,  8.5,  9.5,\n",
       "        10.5]),\n",
       " <BarContainer object of 11 artists>)"
      ]
     },
     "execution_count": 168,
     "metadata": {},
     "output_type": "execute_result"
    },
    {
     "data": {
      "image/png": "[encoded data removed]",
      "text/plain": [
       "<Figure size 432x288 with 1 Axes>"
      ]
     },
     "metadata": {},
     "output_type": "display_data"
    }
   ],
   "source": [
    "plt.hist(np.log2(inputdataarray[0]), \n",
    "         bins = max_ncore_bin_log2+1,\n",
    "         range=(-0.5,max_ncore_bin_log2+0.5), \n",
    "         log=True)"
   ]
  },
  {
   "cell_type": "code",
   "execution_count": 169,
   "id": "bdcabe57",
   "metadata": {},
   "outputs": [
    {
     "name": "stdout",
     "output_type": "stream",
     "text": [
      "[ 0  1  2  3  4  5  6  7  8  9 10 11 12]\n"
     ]
    }
   ],
   "source": [
    "print(np.arange(0,max_bin_log2))"
   ]
  },
  {
   "cell_type": "code",
   "execution_count": 170,
   "id": "f9de2676",
   "metadata": {},
   "outputs": [
    {
     "name": "stdout",
     "output_type": "stream",
     "text": [
      "[   1    2    4    8   16   32   64  128  256  512 1024 2048 4096]\n"
     ]
    }
   ],
   "source": [
    "print(2**np.arange(0,max_bin_log2))"
   ]
  },
  {
   "cell_type": "code",
   "execution_count": 171,
   "id": "fa8d107a",
   "metadata": {
    "scrolled": true
   },
   "outputs": [],
   "source": [
    "ncore_hist, ncore_hist_edges = np.histogram(np.log2(inputdataarray[0]),\n",
    "                                            bins = max_ncore_bin_log2+1, \n",
    "                                            range=(-0.5,max_ncore_bin_log2+0.5))"
   ]
  },
  {
   "cell_type": "code",
   "execution_count": 172,
   "id": "b99ae985",
   "metadata": {},
   "outputs": [
    {
     "data": {
      "text/plain": [
       "array([ 0.,  2.,  4.,  6.,  8., 10., 12., 14., 16., 18., 20.])"
      ]
     },
     "execution_count": 172,
     "metadata": {},
     "output_type": "execute_result"
    }
   ],
   "source": [
    "ncore_hist_centers = np.delete(ncore_hist_edges + np.roll(ncore_hist_edges,1),0)\n",
    "ncore_hist_centers "
   ]
  },
  {
   "cell_type": "code",
   "execution_count": 173,
   "id": "635bd5ec",
   "metadata": {},
   "outputs": [
    {
     "data": {
      "image/png": "[encoded data removed]",
      "text/plain": [
       "<Figure size 432x288 with 1 Axes>"
      ]
     },
     "metadata": {},
     "output_type": "display_data"
    }
   ],
   "source": [
    "plt.plot(ncore_hist_centers,ncore_hist)\n",
    "plt.yscale('log')"
   ]
  },
  {
   "cell_type": "markdown",
   "id": "9cd1d7ba",
   "metadata": {},
   "source": [
    "## Histogram of job durations"
   ]
  },
  {
   "cell_type": "code",
   "execution_count": 174,
   "id": "f7a95f65",
   "metadata": {},
   "outputs": [],
   "source": [
    "min_time_bin_log2=int(np.floor(np.min(np.log2(inputdataarray[1]+0.1)))+1)\n",
    "max_time_bin_log2=int(np.floor(np.max(np.log2(inputdataarray[1]+0.1)))+1)"
   ]
  },
  {
   "cell_type": "code",
   "execution_count": 175,
   "id": "02102ff6",
   "metadata": {
    "scrolled": true
   },
   "outputs": [
    {
     "data": {
      "text/plain": [
       "(array([  29.,  161.,  423., 1229., 7959., 8680., 3718., 3868., 2163.,\n",
       "         677.,  449.,  229.,  518.,  187.,  146.,   72.,   91.,   26.,\n",
       "          53.,    0.]),\n",
       " array([ 0.5,  1.5,  2.5,  3.5,  4.5,  5.5,  6.5,  7.5,  8.5,  9.5, 10.5,\n",
       "        11.5, 12.5, 13.5, 14.5, 15.5, 16.5, 17.5, 18.5, 19.5, 20.5]),\n",
       " <BarContainer object of 20 artists>)"
      ]
     },
     "execution_count": 175,
     "metadata": {},
     "output_type": "execute_result"
    },
    {
     "data": {
      "image/png": "[encoded data removed]",
      "text/plain": [
       "<Figure size 432x288 with 1 Axes>"
      ]
     },
     "metadata": {},
     "output_type": "display_data"
    }
   ],
   "source": [
    "plt.hist(np.log2(inputdataarray[1]+0.1), \n",
    "         bins = max_time_bin_log2-min_time_bin_log2+1, \n",
    "         range=(min_time_bin_log2-0.5,max_time_bin_log2+0.5), log=True)"
   ]
  },
  {
   "cell_type": "code",
   "execution_count": 176,
   "id": "1537cea2",
   "metadata": {},
   "outputs": [
    {
     "name": "stdout",
     "output_type": "stream",
     "text": [
      "[ 1  2  3  4  5  6  7  8  9 10 11 12 13 14 15 16 17 18 19]\n"
     ]
    }
   ],
   "source": [
    "print(np.arange(min_time_bin_log2,max_time_bin_log2))"
   ]
  },
  {
   "cell_type": "code",
   "execution_count": 177,
   "id": "ff45cb39",
   "metadata": {},
   "outputs": [
    {
     "name": "stdout",
     "output_type": "stream",
     "text": [
      "[2.00000e+00 4.00000e+00 8.00000e+00 1.60000e+01 3.20000e+01 6.40000e+01\n",
      " 1.28000e+02 2.56000e+02 5.12000e+02 1.02400e+03 2.04800e+03 4.09600e+03\n",
      " 8.19200e+03 1.63840e+04 3.27680e+04 6.55360e+04 1.31072e+05 2.62144e+05\n",
      " 5.24288e+05]\n"
     ]
    }
   ],
   "source": [
    "print(2.**np.arange(min_time_bin_log2,max_time_bin_log2))"
   ]
  },
  {
   "cell_type": "code",
   "execution_count": 178,
   "id": "d3f3efaa",
   "metadata": {
    "scrolled": true
   },
   "outputs": [],
   "source": [
    "time_hist, time_hist_edges = np.histogram(np.log2(inputdataarray[1]+0.1),\n",
    "                                          bins = max_time_bin_log2-min_time_bin_log2+1, \n",
    "                                          range=(min_time_bin_log2-0.5,max_time_bin_log2+0.5))"
   ]
  },
  {
   "cell_type": "code",
   "execution_count": 179,
   "id": "fe4bbc0e",
   "metadata": {},
   "outputs": [
    {
     "data": {
      "text/plain": [
       "array([ 2.,  4.,  6.,  8., 10., 12., 14., 16., 18., 20., 22., 24., 26.,\n",
       "       28., 30., 32., 34., 36., 38., 40.])"
      ]
     },
     "execution_count": 179,
     "metadata": {},
     "output_type": "execute_result"
    }
   ],
   "source": [
    "time_hist_centers = np.delete(time_hist_edges + np.roll(time_hist_edges,1),0)\n",
    "time_hist_centers "
   ]
  },
  {
   "cell_type": "code",
   "execution_count": 180,
   "id": "42edb78b",
   "metadata": {},
   "outputs": [
    {
     "data": {
      "image/png": "[encoded data removed]",
      "text/plain": [
       "<Figure size 432x288 with 1 Axes>"
      ]
     },
     "metadata": {},
     "output_type": "display_data"
    }
   ],
   "source": [
    "plt.plot(time_hist_centers,time_hist)\n",
    "plt.yscale('log')"
   ]
  },
  {
   "cell_type": "markdown",
   "id": "f9a268f6",
   "metadata": {},
   "source": [
    "## 2d Histogram of number of cores used and job duration"
   ]
  },
  {
   "cell_type": "code",
   "execution_count": 181,
   "id": "b67100f2",
   "metadata": {},
   "outputs": [
    {
     "name": "stderr",
     "output_type": "stream",
     "text": [
      "/usr/local/lib/python3.7/dist-packages/ipykernel_launcher.py:4: MatplotlibDeprecationWarning: Auto-removal of grids by pcolor() and pcolormesh() is deprecated since 3.5 and will be removed two minor releases later; please call grid(False) first.\n",
      "  after removing the cwd from sys.path.\n"
     ]
    },
    {
     "data": {
      "text/plain": [
       "(array([[7.000e+00, 1.500e+01, 2.700e+01, 3.460e+02, 3.706e+03, 8.603e+03,\n",
       "         3.679e+03, 3.772e+03, 2.064e+03, 5.950e+02, 2.170e+02, 1.900e+02,\n",
       "         4.600e+02, 1.450e+02, 1.700e+01, 1.200e+01, 2.600e+01, 1.400e+01,\n",
       "         2.000e+00, 0.000e+00],\n",
       "        [0.000e+00, 4.000e+00, 0.000e+00, 1.000e+00, 0.000e+00, 0.000e+00,\n",
       "         0.000e+00, 1.000e+00, 4.000e+00, 3.000e+00, 1.500e+01, 3.000e+00,\n",
       "         4.000e+00, 2.000e+00, 0.000e+00, 6.000e+00, 1.000e+00, 2.000e+00,\n",
       "         0.000e+00, 0.000e+00],\n",
       "        [0.000e+00, 0.000e+00, 0.000e+00, 0.000e+00, 0.000e+00, 0.000e+00,\n",
       "         0.000e+00, 0.000e+00, 0.000e+00, 0.000e+00, 3.000e+00, 0.000e+00,\n",
       "         3.000e+00, 0.000e+00, 3.000e+00, 2.000e+00, 0.000e+00, 0.000e+00,\n",
       "         0.000e+00, 0.000e+00],\n",
       "        [2.000e+00, 5.100e+01, 3.680e+02, 8.760e+02, 4.242e+03, 5.000e+01,\n",
       "         2.200e+01, 8.400e+01, 8.300e+01, 6.500e+01, 1.790e+02, 1.000e+00,\n",
       "         3.000e+00, 1.800e+01, 0.000e+00, 3.000e+00, 1.000e+00, 0.000e+00,\n",
       "         1.700e+01, 0.000e+00],\n",
       "        [7.000e+00, 5.300e+01, 2.200e+01, 0.000e+00, 0.000e+00, 0.000e+00,\n",
       "         3.000e+00, 1.000e+00, 2.000e+00, 1.200e+01, 3.000e+01, 1.500e+01,\n",
       "         2.400e+01, 1.500e+01, 1.210e+02, 3.600e+01, 2.000e+00, 0.000e+00,\n",
       "         0.000e+00, 0.000e+00],\n",
       "        [0.000e+00, 2.200e+01, 1.000e+00, 4.000e+00, 7.000e+00, 1.300e+01,\n",
       "         1.000e+01, 9.000e+00, 2.000e+00, 1.000e+00, 0.000e+00, 1.600e+01,\n",
       "         5.000e+00, 2.000e+00, 0.000e+00, 3.000e+00, 5.300e+01, 0.000e+00,\n",
       "         0.000e+00, 0.000e+00],\n",
       "        [0.000e+00, 2.000e+00, 0.000e+00, 0.000e+00, 0.000e+00, 0.000e+00,\n",
       "         0.000e+00, 0.000e+00, 0.000e+00, 0.000e+00, 0.000e+00, 0.000e+00,\n",
       "         5.000e+00, 0.000e+00, 0.000e+00, 0.000e+00, 0.000e+00, 0.000e+00,\n",
       "         2.000e+00, 0.000e+00],\n",
       "        [1.300e+01, 1.400e+01, 5.000e+00, 2.000e+00, 4.000e+00, 1.400e+01,\n",
       "         4.000e+00, 1.000e+00, 8.000e+00, 1.000e+00, 5.000e+00, 4.000e+00,\n",
       "         1.200e+01, 3.000e+00, 5.000e+00, 1.000e+01, 8.000e+00, 1.000e+01,\n",
       "         2.800e+01, 0.000e+00],\n",
       "        [0.000e+00, 0.000e+00, 0.000e+00, 0.000e+00, 0.000e+00, 0.000e+00,\n",
       "         0.000e+00, 0.000e+00, 0.000e+00, 0.000e+00, 0.000e+00, 0.000e+00,\n",
       "         2.000e+00, 2.000e+00, 0.000e+00, 0.000e+00, 0.000e+00, 0.000e+00,\n",
       "         2.000e+00, 0.000e+00],\n",
       "        [0.000e+00, 0.000e+00, 0.000e+00, 0.000e+00, 0.000e+00, 0.000e+00,\n",
       "         0.000e+00, 0.000e+00, 0.000e+00, 0.000e+00, 0.000e+00, 0.000e+00,\n",
       "         0.000e+00, 0.000e+00, 0.000e+00, 0.000e+00, 0.000e+00, 0.000e+00,\n",
       "         2.000e+00, 0.000e+00],\n",
       "        [0.000e+00, 0.000e+00, 0.000e+00, 0.000e+00, 0.000e+00, 0.000e+00,\n",
       "         0.000e+00, 0.000e+00, 0.000e+00, 0.000e+00, 0.000e+00, 0.000e+00,\n",
       "         0.000e+00, 0.000e+00, 0.000e+00, 0.000e+00, 0.000e+00, 0.000e+00,\n",
       "         0.000e+00, 0.000e+00]]),\n",
       " array([-0.5,  0.5,  1.5,  2.5,  3.5,  4.5,  5.5,  6.5,  7.5,  8.5,  9.5,\n",
       "        10.5]),\n",
       " array([ 0.5,  1.5,  2.5,  3.5,  4.5,  5.5,  6.5,  7.5,  8.5,  9.5, 10.5,\n",
       "        11.5, 12.5, 13.5, 14.5, 15.5, 16.5, 17.5, 18.5, 19.5, 20.5]),\n",
       " <matplotlib.collections.QuadMesh at 0x7f080035f1d0>)"
      ]
     },
     "execution_count": 181,
     "metadata": {},
     "output_type": "execute_result"
    },
    {
     "data": {
      "image/png": "[encoded data removed]",
      "text/plain": [
       "<Figure size 432x288 with 1 Axes>"
      ]
     },
     "metadata": {},
     "output_type": "display_data"
    }
   ],
   "source": [
    "plt.hist2d(np.log2(inputdataarray[0]),\n",
    "           np.log2(inputdataarray[1]+0.1), \n",
    "           bins = [max_ncore_bin_log2+1,max_time_bin_log2-min_time_bin_log2+1],\n",
    "           range=[[-0.5,max_ncore_bin_log2+0.5], [min_time_bin_log2-0.5,max_time_bin_log2+0.5]])"
   ]
  },
  {
   "cell_type": "code",
   "execution_count": 182,
   "id": "e7a5c987",
   "metadata": {},
   "outputs": [],
   "source": [
    "ncore_time_hist, ncore_hist_edges, time_hist_edges = np.histogram2d(np.log2(inputdataarray[0]),\n",
    "                                                                    np.log2(inputdataarray[1]+0.1), \n",
    "                                                                    bins = [max_ncore_bin_log2+1,\n",
    "                                                                            max_time_bin_log2-min_time_bin_log2+1],\n",
    "                                                                    range=[[-0.5,max_ncore_bin_log2+0.5],\n",
    "                                                                           [min_time_bin_log2-0.5,max_time_bin_log2+0.5]])"
   ]
  },
  {
   "cell_type": "code",
   "execution_count": 183,
   "id": "4146666e",
   "metadata": {},
   "outputs": [
    {
     "data": {
      "text/plain": [
       "array([-0.5,  0.5,  1.5,  2.5,  3.5,  4.5,  5.5,  6.5,  7.5,  8.5,  9.5,\n",
       "       10.5])"
      ]
     },
     "execution_count": 183,
     "metadata": {},
     "output_type": "execute_result"
    }
   ],
   "source": [
    "ncore_hist_edges"
   ]
  },
  {
   "cell_type": "code",
   "execution_count": 184,
   "id": "2a674150",
   "metadata": {},
   "outputs": [
    {
     "data": {
      "text/plain": [
       "array([ 0.5,  1.5,  2.5,  3.5,  4.5,  5.5,  6.5,  7.5,  8.5,  9.5, 10.5,\n",
       "       11.5, 12.5, 13.5, 14.5, 15.5, 16.5, 17.5, 18.5, 19.5, 20.5])"
      ]
     },
     "execution_count": 184,
     "metadata": {},
     "output_type": "execute_result"
    }
   ],
   "source": [
    "time_hist_edges"
   ]
  },
  {
   "cell_type": "code",
   "execution_count": 185,
   "id": "7ff71050",
   "metadata": {},
   "outputs": [
    {
     "data": {
      "text/plain": [
       "<matplotlib.image.AxesImage at 0x7f081623a2e8>"
      ]
     },
     "execution_count": 185,
     "metadata": {},
     "output_type": "execute_result"
    },
    {
     "data": {
      "image/png": "[encoded data removed]",
      "text/plain": [
       "<Figure size 432x288 with 1 Axes>"
      ]
     },
     "metadata": {},
     "output_type": "display_data"
    }
   ],
   "source": [
    "plt.imshow(ncore_time_hist, cmap='hot') "
   ]
  },
  {
   "cell_type": "code",
   "execution_count": 186,
   "id": "c0bc9b88",
   "metadata": {},
   "outputs": [
    {
     "data": {
      "text/plain": [
       "(11, 20)"
      ]
     },
     "execution_count": 186,
     "metadata": {},
     "output_type": "execute_result"
    }
   ],
   "source": [
    "ncore_time_hist.shape"
   ]
  },
  {
   "cell_type": "code",
   "execution_count": 187,
   "id": "30e16fce",
   "metadata": {},
   "outputs": [
    {
     "data": {
      "text/plain": [
       "(20,)"
      ]
     },
     "execution_count": 187,
     "metadata": {},
     "output_type": "execute_result"
    }
   ],
   "source": [
    "time_hist_centers.shape"
   ]
  },
  {
   "cell_type": "code",
   "execution_count": 188,
   "id": "aa9cff94",
   "metadata": {},
   "outputs": [],
   "source": [
    "ncore_time_consumption = np.log2(np.transpose(np.transpose(ncore_time_hist*2.**time_hist_centers)*2.**ncore_hist_centers+0.000000001))"
   ]
  },
  {
   "cell_type": "code",
   "execution_count": 189,
   "id": "f1ba6535",
   "metadata": {},
   "outputs": [
    {
     "data": {
      "text/plain": [
       "<matplotlib.image.AxesImage at 0x7f0800525be0>"
      ]
     },
     "execution_count": 189,
     "metadata": {},
     "output_type": "execute_result"
    },
    {
     "data": {
      "image/png": "[encoded data removed]",
      "text/plain": [
       "<Figure size 432x288 with 1 Axes>"
      ]
     },
     "metadata": {},
     "output_type": "display_data"
    }
   ],
   "source": [
    "plt.imshow(ncore_time_consumption, cmap='hot') "
   ]
  },
  {
   "cell_type": "code",
   "execution_count": 190,
   "id": "51e98244",
   "metadata": {},
   "outputs": [
    {
     "data": {
      "text/plain": [
       "([<matplotlib.axis.XTick at 0x7f0800abb6d8>,\n",
       "  <matplotlib.axis.XTick at 0x7f08116e70b8>,\n",
       "  <matplotlib.axis.XTick at 0x7f08116d3860>,\n",
       "  <matplotlib.axis.XTick at 0x7f0811e94ef0>,\n",
       "  <matplotlib.axis.XTick at 0x7f07fff21710>,\n",
       "  <matplotlib.axis.XTick at 0x7f081689aba8>,\n",
       "  <matplotlib.axis.XTick at 0x7f07fff213c8>,\n",
       "  <matplotlib.axis.XTick at 0x7f0811d47fd0>,\n",
       "  <matplotlib.axis.XTick at 0x7f0811d470b8>,\n",
       "  <matplotlib.axis.XTick at 0x7f0800ac0438>,\n",
       "  <matplotlib.axis.XTick at 0x7f0800ac0358>,\n",
       "  <matplotlib.axis.XTick at 0x7f0800df76d8>,\n",
       "  <matplotlib.axis.XTick at 0x7f0800df75f8>,\n",
       "  <matplotlib.axis.XTick at 0x7f0800ac0ac8>,\n",
       "  <matplotlib.axis.XTick at 0x7f081689ab00>,\n",
       "  <matplotlib.axis.XTick at 0x7f0800df75c0>,\n",
       "  <matplotlib.axis.XTick at 0x7f0800c4ea58>,\n",
       "  <matplotlib.axis.XTick at 0x7f0800c4e2e8>,\n",
       "  <matplotlib.axis.XTick at 0x7f0800c4e080>,\n",
       "  <matplotlib.axis.XTick at 0x7f0816004f28>],\n",
       " [Text(2.0, 0, '4.0'),\n",
       "  Text(4.0, 0, '16.0'),\n",
       "  Text(6.0, 0, '64.0'),\n",
       "  Text(8.0, 0, '256.0'),\n",
       "  Text(10.0, 0, '1024.0'),\n",
       "  Text(12.0, 0, '4096.0'),\n",
       "  Text(14.0, 0, '16384.0'),\n",
       "  Text(16.0, 0, '65536.0'),\n",
       "  Text(18.0, 0, '262144.0'),\n",
       "  Text(20.0, 0, '1048576.0'),\n",
       "  Text(22.0, 0, '4194304.0'),\n",
       "  Text(24.0, 0, '16777216.0'),\n",
       "  Text(26.0, 0, '67108864.0'),\n",
       "  Text(28.0, 0, '268435456.0'),\n",
       "  Text(30.0, 0, '1073741824.0'),\n",
       "  Text(32.0, 0, '4294967296.0'),\n",
       "  Text(34.0, 0, '17179869184.0'),\n",
       "  Text(36.0, 0, '68719476736.0'),\n",
       "  Text(38.0, 0, '274877906944.0'),\n",
       "  Text(40.0, 0, '1099511627776.0')])"
      ]
     },
     "execution_count": 190,
     "metadata": {},
     "output_type": "execute_result"
    },
    {
     "data": {
      "image/png": "[encoded data removed]",
      "text/plain": [
       "<Figure size 432x288 with 1 Axes>"
      ]
     },
     "metadata": {},
     "output_type": "display_data"
    }
   ],
   "source": [
    "plt.imshow(ncore_time_consumption, cmap='hot') \n",
    "plt.xticks(ticks = time_hist_centers,\n",
    "           labels = 2.**time_hist_centers)"
   ]
  },
  {
   "cell_type": "markdown",
   "id": "28ef8ae3",
   "metadata": {},
   "source": [
    "TODO ticks:\n",
    "https://matplotlib.org/stable/api/_as_gen/matplotlib.pyplot.xticks.html\n",
    "\n",
    "https://matplotlib.org/stable/api/_as_gen/matplotlib.pyplot.imshow.html\n",
    "\n",
    "https://numpy.org/doc/stable/reference/generated/numpy.histogram2d.html\n",
    "\n",
    "https://www.askpython.com/python-modules/matplotlib/colorplotting-2d-array-matplotlib"
   ]
  },
  {
   "cell_type": "markdown",
   "id": "a732b72d",
   "metadata": {},
   "source": [
    "## core time consumed as a function of number of cores"
   ]
  },
  {
   "cell_type": "code",
   "execution_count": 191,
   "id": "abc260f5",
   "metadata": {},
   "outputs": [
    {
     "data": {
      "text/plain": [
       "30681"
      ]
     },
     "execution_count": 191,
     "metadata": {},
     "output_type": "execute_result"
    }
   ],
   "source": [
    "inputdata[0].size"
   ]
  },
  {
   "cell_type": "code",
   "execution_count": 192,
   "id": "4894a0b8",
   "metadata": {},
   "outputs": [
    {
     "data": {
      "text/plain": [
       "array([  0,   1,   2,   3,   4,   5,   6,   7,   8,   9,  10,  11,  12,\n",
       "        13,  14,  15,  16,  17,  18,  19,  20,  21,  22,  23,  24,  25,\n",
       "        26,  27,  28,  29,  30,  31,  32,  33,  34,  35,  36,  37,  38,\n",
       "        39,  40,  41,  42,  43,  44,  45,  46,  47,  48,  49,  50,  51,\n",
       "        52,  53,  54,  55,  56,  57,  58,  59,  60,  61,  62,  63,  64,\n",
       "        65,  66,  67,  68,  69,  70,  71,  72,  73,  74,  75,  76,  77,\n",
       "        78,  79,  80,  81,  82,  83,  84,  85,  86,  87,  88,  89,  90,\n",
       "        91,  92,  93,  94,  95,  96,  97,  98,  99, 100, 101, 102, 103,\n",
       "       104, 105, 106, 107, 108, 109, 110, 111, 112, 113, 114, 115, 116,\n",
       "       117, 118, 119, 120, 121, 122, 123, 124, 125, 126, 127, 128, 129,\n",
       "       130, 131, 132, 133, 134, 135, 136, 137, 138, 139, 140, 141, 142,\n",
       "       143, 144, 145, 146, 147, 148, 149, 150, 151, 152, 153, 154, 155,\n",
       "       156, 157, 158, 159, 160, 161, 162, 163, 164, 165, 166, 167, 168,\n",
       "       169, 170, 171, 172, 173, 174, 175, 176, 177, 178, 179, 180, 181,\n",
       "       182, 183, 184, 185, 186, 187, 188, 189, 190, 191, 192, 193, 194,\n",
       "       195, 196, 197, 198, 199, 200, 201, 202, 203, 204, 205, 206, 207,\n",
       "       208, 209, 210, 211, 212, 213, 214, 215, 216, 217, 218, 219, 220,\n",
       "       221, 222, 223, 224, 225, 226, 227, 228, 229, 230, 231, 232, 233,\n",
       "       234, 235, 236, 237, 238, 239, 240, 241, 242, 243, 244, 245, 246,\n",
       "       247, 248, 249, 250, 251, 252, 253, 254, 255, 256, 257, 258, 259,\n",
       "       260, 261, 262, 263, 264, 265, 266, 267, 268, 269, 270, 271, 272,\n",
       "       273, 274, 275, 276, 277, 278, 279, 280, 281, 282, 283, 284, 285,\n",
       "       286, 287, 288, 289, 290, 291, 292, 293, 294, 295, 296, 297, 298,\n",
       "       299, 300, 301, 302, 303, 304, 305, 306, 307, 308, 309, 310, 311,\n",
       "       312, 313, 314, 315, 316, 317, 318, 319, 320, 321, 322, 323, 324,\n",
       "       325, 326, 327, 328, 329, 330, 331, 332, 333, 334, 335, 336, 337,\n",
       "       338, 339, 340, 341, 342, 343, 344, 345, 346, 347, 348, 349, 350,\n",
       "       351, 352, 353, 354, 355, 356, 357, 358, 359, 360, 361, 362, 363,\n",
       "       364, 365, 366, 367, 368, 369, 370, 371, 372, 373, 374, 375, 376,\n",
       "       377, 378, 379, 380, 381, 382, 383, 384, 385, 386, 387, 388, 389,\n",
       "       390, 391, 392, 393, 394, 395, 396, 397, 398, 399, 400, 401, 402,\n",
       "       403, 404, 405, 406, 407, 408, 409, 410, 411, 412, 413, 414, 415,\n",
       "       416, 417, 418, 419, 420, 421, 422, 423, 424, 425, 426, 427, 428,\n",
       "       429, 430, 431, 432, 433, 434, 435, 436, 437, 438, 439, 440, 441,\n",
       "       442, 443, 444, 445, 446, 447, 448, 449, 450, 451, 452, 453, 454,\n",
       "       455, 456, 457, 458, 459, 460, 461, 462, 463, 464, 465, 466, 467,\n",
       "       468, 469, 470, 471, 472, 473, 474, 475, 476, 477, 478, 479, 480,\n",
       "       481, 482, 483, 484, 485, 486, 487, 488, 489, 490, 491, 492, 493,\n",
       "       494, 495, 496, 497, 498, 499, 500, 501, 502, 503, 504, 505, 506,\n",
       "       507, 508, 509, 510, 511, 512])"
      ]
     },
     "execution_count": 192,
     "metadata": {},
     "output_type": "execute_result"
    }
   ],
   "source": [
    "number_of_cores = np.arange(np.max(inputdata[0]) + 1)\n",
    "number_of_cores"
   ]
  },
  {
   "cell_type": "code",
   "execution_count": 193,
   "id": "d99e59ce",
   "metadata": {},
   "outputs": [],
   "source": [
    "total_time_by_number_of_cores = np.zeros(np.max(inputdata[0]) + 1) \n",
    "total_core_time_by_number_of_cores = np.zeros(np.max(inputdata[0]) + 1)"
   ]
  },
  {
   "cell_type": "code",
   "execution_count": 194,
   "id": "27b53896",
   "metadata": {},
   "outputs": [],
   "source": [
    "for job in range(inputdata[0].size):\n",
    "    n_job = inputdata[0][job]\n",
    "    t_job = inputdata[1][job]\n",
    "    total_time_by_number_of_cores[n_job] += t_job\n",
    "    total_core_time_by_number_of_cores[n_job] += n_job * t_job"
   ]
  },
  {
   "cell_type": "code",
   "execution_count": 195,
   "id": "8fe186a3",
   "metadata": {},
   "outputs": [
    {
     "data": {
      "text/plain": [
       "<matplotlib.collections.PathCollection at 0x7f080033fbe0>"
      ]
     },
     "execution_count": 195,
     "metadata": {},
     "output_type": "execute_result"
    },
    {
     "data": {
      "image/png": "[encoded data removed]",
      "text/plain": [
       "<Figure size 432x288 with 1 Axes>"
      ]
     },
     "metadata": {},
     "output_type": "display_data"
    }
   ],
   "source": [
    "plt.scatter(number_of_cores,total_time_by_number_of_cores)"
   ]
  },
  {
   "cell_type": "code",
   "execution_count": 196,
   "id": "c73b552b",
   "metadata": {},
   "outputs": [
    {
     "data": {
      "text/plain": [
       "<matplotlib.collections.PathCollection at 0x7f0800a6e9b0>"
      ]
     },
     "execution_count": 196,
     "metadata": {},
     "output_type": "execute_result"
    },
    {
     "data": {
      "image/png": "[encoded data removed]",
      "text/plain": [
       "<Figure size 432x288 with 1 Axes>"
      ]
     },
     "metadata": {},
     "output_type": "display_data"
    }
   ],
   "source": [
    "plt.scatter(number_of_cores,total_core_time_by_number_of_cores)"
   ]
  },
  {
   "cell_type": "code",
   "execution_count": null,
   "id": "26573d18",
   "metadata": {},
   "outputs": [],
   "source": []
  }
 ],
 "metadata": {
  "kernelspec": {
   "display_name": "Python 3 (ipykernel)",
   "language": "python",
   "name": "python3"
  },
  "language_info": {
   "codemirror_mode": {
    "name": "ipython",
    "version": 3
   },
   "file_extension": ".py",
   "mimetype": "text/x-python",
   "name": "python",
   "nbconvert_exporter": "python",
   "pygments_lexer": "ipython3",
   "version": "3.7.3"
  }
 },
 "nbformat": 4,
 "nbformat_minor": 5
}
