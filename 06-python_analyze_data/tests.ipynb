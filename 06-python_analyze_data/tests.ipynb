{
 "cells": [
  {
   "cell_type": "code",
   "execution_count": 1,
   "metadata": {},
   "outputs": [
    {
     "name": "stdout",
     "output_type": "stream",
     "text": [
      "Hello World !\n"
     ]
    }
   ],
   "source": [
    "print('Hello World !')"
   ]
  },
  {
   "cell_type": "markdown",
   "metadata": {},
   "source": [
    "# titre de niveau 1\n",
    "\n",
    "voici un texte simple\n",
    "\n",
    "## titre de niveau 2\n",
    "\n",
    "**Ça**, c'est trés important\n",
    "\n",
    "## autre niveau 2\n",
    "\n",
    "mais *ça* aussi !!\n"
   ]
  },
  {
   "cell_type": "code",
   "execution_count": 2,
   "metadata": {},
   "outputs": [
    {
     "name": "stdout",
     "output_type": "stream",
     "text": [
      "100\n",
      "729\n",
      "2\n"
     ]
    }
   ],
   "source": [
    "compteCourant = 500\n",
    "compteEpargne = 1000\n",
    "\n",
    "# ajouter 100 à notre épargne (Yeah!)\n",
    "compteEpargne = compteEpargne + 100\n",
    "\n",
    "# enlever 50 de notre compte courant (Snif)\n",
    "compteCourant = compteCourant - 50\n",
    "\n",
    "# calculer le nombre de jours à économiser pour atteindre 5000€\n",
    "nombreJoursEconomiser = (5000 - compteCourant) / 500\n",
    "\n",
    "# mettre à jour notre compte courant (encore) après les gains/pertes journaliers\n",
    "compteCourant = compteCourant + (30 - 10) * 7\n",
    "\n",
    "print(compteEpargne % 500) # -> 100\n",
    "# 1100 = 500 * 2 + 100, donc 1100 % 500 = le reste = 100\n",
    "\n",
    "print(9 ** 3) # -> 729, 9*9*9 = 729\n",
    "\n",
    "print(compteEpargne // 500) # -> 2\n",
    "# 1100 = 500 * 2 + 100, donc 1100 // 500 = résultat division entière = 2"
   ]
  },
  {
   "cell_type": "code",
   "execution_count": 1,
   "metadata": {},
   "outputs": [
    {
     "name": "stdout",
     "output_type": "stream",
     "text": [
      "Help on built-in function pow in module builtins:\n",
      "\n",
      "pow(x, y, z=None, /)\n",
      "    Equivalent to x**y (with two arguments) or x**y % z (with three arguments)\n",
      "    \n",
      "    Some types, such as ints, are able to use a more efficient algorithm when\n",
      "    invoked using the three argument form.\n",
      "\n"
     ]
    }
   ],
   "source": [
    "help(pow)"
   ]
  },
  {
   "cell_type": "code",
   "execution_count": 3,
   "metadata": {},
   "outputs": [
    {
     "name": "stdout",
     "output_type": "stream",
     "text": [
      "VOICI UN EXEMPLE AVEC UNE STRING\n",
      "Voici un exemple avec une string\n",
      "voici un essai avec une STRING\n",
      "6\n",
      "-1\n"
     ]
    }
   ],
   "source": [
    "texte = 'voici un EXEMPLE avec une STRING'\n",
    "a = texte.upper()\n",
    "print(a)\n",
    "print(texte.capitalize())\n",
    "print(texte.replace('EXEMPLE', 'essai'))\n",
    "print(texte.find('un'))\n",
    "print(texte.find('deux'))"
   ]
  },
  {
   "cell_type": "code",
   "execution_count": 6,
   "metadata": {},
   "outputs": [
    {
     "name": "stdout",
     "output_type": "stream",
     "text": [
      "1 0 16 1\n"
     ]
    }
   ],
   "source": [
    "a = 4\n",
    "def polynome(a, b, c, x):\n",
    "    return a*x**2 + b*x + c\n",
    "\n",
    "b = a\n",
    "b *= a\n",
    "c = 1\n",
    "resultat = polynome(a, b, c, 0)\n",
    "a += 3\n",
    "a = 0\n",
    "print(resultat, a, b, c)\n",
    "\n"
   ]
  },
  {
   "cell_type": "code",
   "execution_count": 7,
   "metadata": {},
   "outputs": [
    {
     "name": "stdout",
     "output_type": "stream",
     "text": [
      "1\n",
      "2\n",
      "4\n"
     ]
    }
   ],
   "source": [
    "if 'bar' in {'foo': 1, 'bar': 2, 'baz': 3}:\n",
    "    print(1)\n",
    "    print(2)\n",
    "    if 'a' in 'qux':\n",
    "        print(3)\n",
    "print(4)\n",
    "    "
   ]
  },
  {
   "cell_type": "code",
   "execution_count": 8,
   "metadata": {},
   "outputs": [
    {
     "name": "stdout",
     "output_type": "stream",
     "text": [
      "yeah !\n"
     ]
    }
   ],
   "source": [
    "d = {'a': 0, 'b': 1, 'c': 0}\n",
    "\n",
    "if d['a'] > 0:\n",
    "    print('yeah !')\n",
    "elif d['b'] > 0:\n",
    "    print('yeah !')\n",
    "elif d['c'] > 0:\n",
    "    print('ok')\n",
    "elif d['d'] > 0:\n",
    "    print('ok')\n",
    "else:\n",
    "    print('not ok')"
   ]
  },
  {
   "cell_type": "code",
   "execution_count": 9,
   "metadata": {},
   "outputs": [
    {
     "name": "stdout",
     "output_type": "stream",
     "text": [
      "corge\n",
      "qux\n",
      "baz\n",
      "Done.\n"
     ]
    }
   ],
   "source": [
    "a = ['foo', 'bar', 'baz', 'qux', 'corge']\n",
    "\n",
    "while a:\n",
    "    if len(a) < 3:\n",
    "        break\n",
    "    print(a.pop())\n",
    "print('Done.')\n"
   ]
  },
  {
   "cell_type": "code",
   "execution_count": 10,
   "metadata": {},
   "outputs": [
    {
     "name": "stdout",
     "output_type": "stream",
     "text": [
      "['bar', 'baz']\n"
     ]
    }
   ],
   "source": [
    "a = ['foo', 'bar', 'baz', 'qux', 'quux', 'corge']\n",
    "print(a[-5:-3])"
   ]
  },
  {
   "cell_type": "code",
   "execution_count": 11,
   "metadata": {},
   "outputs": [
    {
     "name": "stdout",
     "output_type": "stream",
     "text": [
      "17.766960181369473\n"
     ]
    }
   ],
   "source": [
    "import random\n",
    "\n",
    "n = random.uniform(10,19)\n",
    "print(n)"
   ]
  },
  {
   "cell_type": "code",
   "execution_count": 1,
   "metadata": {},
   "outputs": [
    {
     "name": "stdout",
     "output_type": "stream",
     "text": [
      "1 1 2 3 5 8 \n"
     ]
    }
   ],
   "source": [
    "import fibo\n",
    "fibo.fib(10)\n"
   ]
  },
  {
   "cell_type": "code",
   "execution_count": 2,
   "metadata": {},
   "outputs": [
    {
     "name": "stdout",
     "output_type": "stream",
     "text": [
      "premier tirage: 18\n",
      "second tirage: 18\n",
      "premier tirage: 17\n",
      "second tirage: 72\n",
      "premier tirage: 17\n",
      "second tirage: 72\n"
     ]
    }
   ],
   "source": [
    "from random import randint, seed\n",
    "\n",
    "# howto seed()\n",
    "seed()\n",
    "print(f'premier tirage: {randint(0, 100)}')\n",
    "print(f'second tirage: {randint(0, 100)}')\n",
    "\n",
    "seed(1)\n",
    "print(f'premier tirage: {randint(0, 100)}')\n",
    "print(f'second tirage: {randint(0, 100)}')\n",
    "\n",
    "seed(1)\n",
    "# cela devrait retourner les mêmes résultats que les deux précédents\n",
    "print(f'premier tirage: {randint(0, 100)}')\n",
    "print(f'second tirage: {randint(0, 100)}')\n"
   ]
  },
  {
   "cell_type": "code",
   "execution_count": null,
   "metadata": {},
   "outputs": [],
   "source": []
  }
 ],
 "metadata": {
  "kernelspec": {
   "display_name": "Python 3",
   "language": "python",
   "name": "python3"
  },
  "language_info": {
   "codemirror_mode": {
    "name": "ipython",
    "version": 3
   },
   "file_extension": ".py",
   "mimetype": "text/x-python",
   "name": "python",
   "nbconvert_exporter": "python",
   "pygments_lexer": "ipython3",
   "version": "3.7.3"
  }
 },
 "nbformat": 4,
 "nbformat_minor": 4
}
