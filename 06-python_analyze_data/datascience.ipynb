{
 "cells": [
  {
   "cell_type": "code",
   "execution_count": 25,
   "metadata": {},
   "outputs": [
    {
     "name": "stdout",
     "output_type": "stream",
     "text": [
      "En changeant de stratégie, le joueur a gagné 6710 sur 10 000 parties\n",
      "En gardant le choix initial, le joueur à gagné 3327 sur 10 000 parties\n"
     ]
    },
    {
     "data": {
      "image/png": "[encoded data removed]",
      "text/plain": [
       "<Figure size 432x288 with 1 Axes>"
      ]
     },
     "metadata": {
      "needs_background": "light"
     },
     "output_type": "display_data"
    },
    {
     "data": {
      "image/png": "[encoded data removed]",
      "text/plain": [
       "<Figure size 432x288 with 1 Axes>"
      ]
     },
     "metadata": {
      "needs_background": "light"
     },
     "output_type": "display_data"
    }
   ],
   "source": [
    "# pour afficher directement dans le notebook\n",
    "%matplotlib inline\n",
    "\n",
    "from random import randint, seed\n",
    "from enum import Enum\n",
    "import matplotlib.pyplot as plt\n",
    "\n",
    "\n",
    "class Strategie(Enum):\n",
    "    CHANGER = 1\n",
    "    GARDER = 2\n",
    "\n",
    "\n",
    "seed()\n",
    "\n",
    "\n",
    "def play_game(strategie):\n",
    "    \"\"\" simulation d'une partie de Monty Hall \n",
    "    \n",
    "    simule le choix de porte par le joueur,\n",
    "    l'élimination d'une mauvaise porte (rien derrière) \n",
    "    par le MDJ, et le choix final.\n",
    "    Elle ne retourne que le résulta de la partie, il \n",
    "    n'y a pas besoin d'autre chose pour la suite.\n",
    "    \n",
    "    Arg:\n",
    "        strategie (Strategie): stratégie du joueur\n",
    "    \n",
    "    Return:\n",
    "        bool: le joueur a-t-il gagné ?\n",
    "    \"\"\"\n",
    "    portes = [0, 1, 2]\n",
    "    bonne_porte = randint(0, 2)\n",
    "    \n",
    "    # choix joueur\n",
    "    premier_choix = randint(0, 2)\n",
    "    \n",
    "    # il doit nous rester 2 portes\n",
    "    portes.remove(premier_choix)\n",
    "    \n",
    "    # le MDJ élimine une porte\n",
    "    if premier_choix == bonne_porte:\n",
    "        portes.remove(portes[randint(0, 1)])\n",
    "    else:\n",
    "        portes = [bonne_porte]\n",
    "    \n",
    "    deuxieme_choix = 0\n",
    "    # le second choix dépend de la stratégie\n",
    "    if strategie == Strategie.CHANGER:\n",
    "        deuxieme_choix = portes[0]\n",
    "    elif strategie == Strategie.GARDER:\n",
    "        deuxieme_choix == premier_choix\n",
    "    else:\n",
    "        raise ValueError('Stratégie inconnue !')\n",
    "        \n",
    "    return deuxieme_choix == bonne_porte\n",
    "\n",
    "\n",
    "def play(strategie, nb_tours):\n",
    "    \"\"\" simule une suite de jeux Monty Hall\n",
    "    \n",
    "    renvoie les résultats de plusieurs parties sous forme \n",
    "    d'une liste de gains\n",
    "    \n",
    "    \n",
    "    Args:\n",
    "        strategie (Strategie): stratégie du joueur\n",
    "        nb_tours (int): nombre de tours\n",
    "        \n",
    "    Return:\n",
    "        list: liste des gains du joueur à chaque partie\n",
    "    \"\"\"\n",
    "    \n",
    "    return [1 if play_game(strategie) else 0 for i in range(nb_tours)] \n",
    "\n",
    "print(f'En changeant de stratégie, le joueur a gagné {sum(play(Strategie.CHANGER, 10000))} sur 10 000 parties')\n",
    "\n",
    "print(f'En gardant le choix initial, le joueur à gagné {sum(play(Strategie.GARDER, 10000))} sur 10 000 parties')\n",
    "\n",
    "# plot = plt.plot(play(Strategie.CHANGER, 10000))\n",
    "# plot = plt.scatter(range(10000), play(Strategie.CHANGER, 10000))\n",
    "plot = plt.bar([1, 2], [sum(play(Strategie.CHANGER, 10000)),\n",
    "                        sum(play(Strategie.GARDER, 10000))],\n",
    "              tick_label=['Changer', 'Garder'])\n",
    "\n",
    "\n",
    "gains_changer = []\n",
    "gains_garder = []\n",
    "samples = [10, 100, 10000, 20000, 50000, 80000, 100000]\n",
    "for tours in samples:\n",
    "    gains_changer.append(play(Strategie.CHANGER, tours))\n",
    "    gains_garder.append(play(Strategie.GARDER, tours))\n",
    "\n",
    "figure = plt.figure()\n",
    "plot = plt.scatter(samples, [sum(x) for x in gains_changer])\n",
    "plot = plt.scatter(samples, [sum(x) for x in gains_garder])\n",
    "# TODO: la moyenne de gains de chaque stratégie par partie ->\n",
    "# diviser la somme des gains par le nombre de parties.\n",
    "# plot = plt.scatter(samples, [sum(x)/y for x in gains_changer and for y in samples])"
   ]
  },
  {
   "cell_type": "code",
   "execution_count": null,
   "metadata": {},
   "outputs": [],
   "source": []
  }
 ],
 "metadata": {
  "kernelspec": {
   "display_name": "Python 3",
   "language": "python",
   "name": "python3"
  },
  "language_info": {
   "codemirror_mode": {
    "name": "ipython",
    "version": 3
   },
   "file_extension": ".py",
   "mimetype": "text/x-python",
   "name": "python",
   "nbconvert_exporter": "python",
   "pygments_lexer": "ipython3",
   "version": "3.7.3"
  }
 },
 "nbformat": 4,
 "nbformat_minor": 4
}
