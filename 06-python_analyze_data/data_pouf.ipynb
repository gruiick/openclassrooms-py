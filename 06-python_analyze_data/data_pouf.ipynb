{
 "cells": [
  {
   "cell_type": "code",
   "execution_count": 1,
   "metadata": {},
   "outputs": [
    {
     "data": {
      "text/html": [
       "<div>\n",
       "<style scoped>\n",
       "    .dataframe tbody tr th:only-of-type {\n",
       "        vertical-align: middle;\n",
       "    }\n",
       "\n",
       "    .dataframe tbody tr th {\n",
       "        vertical-align: top;\n",
       "    }\n",
       "\n",
       "    .dataframe thead th {\n",
       "        text-align: right;\n",
       "    }\n",
       "</style>\n",
       "<table border=\"1\" class=\"dataframe\">\n",
       "  <thead>\n",
       "    <tr style=\"text-align: right;\">\n",
       "      <th></th>\n",
       "      <th>date</th>\n",
       "      <th>abo</th>\n",
       "    </tr>\n",
       "  </thead>\n",
       "  <tbody>\n",
       "    <tr>\n",
       "      <th>0</th>\n",
       "      <td>2021-05-17</td>\n",
       "      <td>245</td>\n",
       "    </tr>\n",
       "    <tr>\n",
       "      <th>1</th>\n",
       "      <td>2021-05-24</td>\n",
       "      <td>324</td>\n",
       "    </tr>\n",
       "    <tr>\n",
       "      <th>2</th>\n",
       "      <td>2021-05-31</td>\n",
       "      <td>382</td>\n",
       "    </tr>\n",
       "    <tr>\n",
       "      <th>3</th>\n",
       "      <td>2021-06-04</td>\n",
       "      <td>400</td>\n",
       "    </tr>\n",
       "    <tr>\n",
       "      <th>4</th>\n",
       "      <td>2021-06-23</td>\n",
       "      <td>500</td>\n",
       "    </tr>\n",
       "  </tbody>\n",
       "</table>\n",
       "</div>"
      ],
      "text/plain": [
       "         date  abo\n",
       "0  2021-05-17  245\n",
       "1  2021-05-24  324\n",
       "2  2021-05-31  382\n",
       "3  2021-06-04  400\n",
       "4  2021-06-23  500"
      ]
     },
     "execution_count": 1,
     "metadata": {},
     "output_type": "execute_result"
    }
   ],
   "source": [
    "%matplotlib inline\n",
    "import matplotlib.pyplot as plt\n",
    "#import matplotlib.dates as mdates\n",
    "import datetime as dt\n",
    "import numpy as np\n",
    "plt.style.use('seaborn-whitegrid')\n",
    "import pandas as pd\n",
    "import seaborn as sns\n",
    "instapouf = pd.read_csv(\"../../../gruiickode/python/04-plot/data/instapouf.csv\", sep=\",\")\n",
    "#\n",
    "instapouf.head()"
   ]
  },
  {
   "cell_type": "markdown",
   "metadata": {},
   "source": [
    "le plot simple donne une série aligné sur l'index, pas sur la valeur réelle de date. Deux essais en extrayant l'axe de la date pour le reformater :\n"
   ]
  },
  {
   "cell_type": "code",
   "execution_count": 4,
   "metadata": {},
   "outputs": [
    {
     "data": {
      "image/png": "[encoded data removed]",
      "text/plain": [
       "<Figure size 864x360 with 1 Axes>"
      ]
     },
     "metadata": {},
     "output_type": "display_data"
    }
   ],
   "source": [
    "# extract dates\n",
    "dates = instapouf['date']\n",
    "dates = [dt.datetime.strptime(d,'%Y-%m-%d').date() for d in dates]\n",
    "\n",
    "fig, ax = plt.subplots(figsize=(12,5))\n",
    "plt.title(\"Instapouf\")\n",
    "\n",
    "#ax.plot('date', 'abo', data=instapouf)\n",
    "ax.plot('abo', data=instapouf)\n",
    "ax.xaxis_date()\n",
    "\n",
    "# set the number of ticks on x-axis to be a list [0, ... ,R]\n",
    "# R is the number of rows in the data (i.e. len(dates))\n",
    "# this ensures ticklabels align with the corresponding data point\n",
    "ax.set_xticks(np.arange(len(dates)))\n",
    "ax.set_xticklabels(dates)     # set the ticklabels to the list of datetimes\n",
    "ax.legend(loc=4, fontsize=10) # make a legend and place in bottom-right (loc=4)\n",
    "#plt.xticks(rotation=30)       # rotate the xticklabels by 30 deg\n",
    "ax = ax.set(ylabel='abos')\n",
    "\n",
    "fig.autofmt_xdate()\n",
    "\n",
    "#plt.plot(instapouf['date'], instapouf['abo'])\n",
    "plt.show()"
   ]
  },
  {
   "cell_type": "code",
   "execution_count": null,
   "metadata": {
    "scrolled": true
   },
   "outputs": [
    {
     "data": {
      "text/plain": [
       "Text(83.625, 0.5, 'Abos')"
      ]
     },
     "execution_count": 4,
     "metadata": {},
     "output_type": "execute_result"
    }
   ],
   "source": [
    "%matplotlib inline\n",
    "import matplotlib.pyplot as plt\n",
    "from datetime import datetime, timedelta\n",
    "from matplotlib import dates as mpl_dates\n",
    "import pandas as pd\n",
    "#plt.style.use('seaborn')\n",
    "plt.style.use('seaborn-whitegrid')\n",
    "\n",
    "data = pd.read_csv('../../../gruiickode/python/04-plot/data/instapouf.csv')\n",
    "data['date'] = pd.to_datetime(data['date'])\n",
    "#data.sort_values('date', inplace=True)\n",
    "\n",
    "plt.subplots(figsize=(12,4))\n",
    "plt.plot_date(data['date'], data['abo'], linestyle='solid')\n",
    "plt.gcf().autofmt_xdate()\n",
    "date_format = mpl_dates.DateFormatter('%d-%m-%Y')\n",
    "plt.gca().xaxis.set_major_formatter(date_format)\n",
    "plt.tight_layout()\n",
    "plt.title('Instapouf')\n",
    "plt.xlabel('Date')\n",
    "plt.ylabel('Abos')\n"
   ]
  },
  {
   "cell_type": "code",
   "execution_count": null,
   "metadata": {},
   "outputs": [],
   "source": []
  }
 ],
 "metadata": {
  "kernelspec": {
   "display_name": "Python 3",
   "language": "python",
   "name": "python3"
  },
  "language_info": {
   "codemirror_mode": {
    "name": "ipython",
    "version": 3
   },
   "file_extension": ".py",
   "mimetype": "text/x-python",
   "name": "python",
   "nbconvert_exporter": "python",
   "pygments_lexer": "ipython3",
   "version": "3.7.3"
  }
 },
 "nbformat": 4,
 "nbformat_minor": 4
}
