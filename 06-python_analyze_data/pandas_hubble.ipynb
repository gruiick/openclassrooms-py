{
 "cells": [
  {
   "cell_type": "code",
   "execution_count": 2,
   "metadata": {},
   "outputs": [
    {
     "name": "stdout",
     "output_type": "stream",
     "text": [
      "    distance  recession_velocity\n",
      "0      0.032                 170\n",
      "1      0.034                 290\n",
      "2      0.214                -130\n",
      "3      0.263                 -70\n",
      "4      0.275                -185\n",
      "5      0.275                -220\n",
      "6      0.450                 200\n",
      "7      0.500                 290\n",
      "8      0.500                 270\n",
      "9      0.630                 200\n",
      "10     0.800                 300\n",
      "11     0.900                 -30\n",
      "12     0.900                 650\n",
      "13     0.900                 150\n",
      "14     0.900                 500\n",
      "15     1.000                 920\n",
      "16     1.100                 450\n",
      "17     1.100                 500\n",
      "18     1.400                 500\n",
      "19     1.700                 960\n",
      "20     2.000                 500\n",
      "21     2.000                 850\n",
      "22     2.000                 800\n",
      "23     2.000                1090\n"
     ]
    }
   ],
   "source": [
    "import pandas as pd\n",
    "data = pd.read_csv(\"hubble_data.csv\", sep=\",\")\n",
    "print(data)"
   ]
  },
  {
   "cell_type": "code",
   "execution_count": null,
   "metadata": {},
   "outputs": [],
   "source": []
  }
 ],
 "metadata": {
  "kernelspec": {
   "display_name": "Python 3",
   "language": "python",
   "name": "python3"
  },
  "language_info": {
   "codemirror_mode": {
    "name": "ipython",
    "version": 3
   },
   "file_extension": ".py",
   "mimetype": "text/x-python",
   "name": "python",
   "nbconvert_exporter": "python",
   "pygments_lexer": "ipython3",
   "version": "3.7.3"
  }
 },
 "nbformat": 4,
 "nbformat_minor": 4
}
